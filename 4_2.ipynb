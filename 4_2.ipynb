{
 "cells": [
  {
   "cell_type": "code",
   "execution_count": null,
   "metadata": {},
   "outputs": [],
   "source": [
    "using Plots\n",
    "a = 0.001\n",
    "b = 0.0000391\n",
    "r = 0.0000391\n",
    "sigma = 0.1\n",
    "beta = 0.143\n",
    "N = 15000\n",
    "\n",
    "dt = 0.01\n",
    "day = 2500\n",
    "nIter = Int(day/dt)\n",
    "\n",
    "S = zeros(nIter)\n",
    "H = zeros(nIter)\n",
    "I = zeros(nIter)\n",
    "R = zeros(nIter)\n",
    "S[1] = 14990\n",
    "H[1] = 10\n",
    "I[1] = 10\n",
    "R[1] = 0\n",
    "\n",
    "for n in 1:(nIter-1)\n",
    "    S[n+1] = S[n] + (r*N - b*S[n] - a*s[n]*I[n])*dt\n",
    "    H[n+1] = H[n] + (a*s[n]*I[n] - (b + sigma)*H[n])*dt\n",
    "    I[n+1] = I[n] + (a*H[n] - (b + beta)*I[n])*dt\n",
    "    R[n+1] = R[n] + (beta*I[n] - b*R[n])*dt\n",
    "end\n",
    "\n",
    "plot(1:nIter, S)\n",
    "plot!(1:nIter, H)\n",
    "plot!(1:nIter, I)\n",
    "plot!(1:nIter, R)"
   ]
  },
  {
   "cell_type": "code",
   "execution_count": null,
   "metadata": {},
   "outputs": [],
   "source": []
  }
 ],
 "metadata": {
  "kernelspec": {
   "display_name": "Julia 1.8.5",
   "language": "julia",
   "name": "julia-1.8"
  },
  "language_info": {
   "file_extension": ".jl",
   "mimetype": "application/julia",
   "name": "julia",
   "version": "1.8.5"
  },
  "orig_nbformat": 4
 },
 "nbformat": 4,
 "nbformat_minor": 2
}
